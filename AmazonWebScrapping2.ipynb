{
  "nbformat": 4,
  "nbformat_minor": 0,
  "metadata": {
    "colab": {
      "provenance": [],
      "authorship_tag": "ABX9TyNJ3UM9WgM2lYww/R2aogBH",
      "include_colab_link": true
    },
    "kernelspec": {
      "name": "python3",
      "display_name": "Python 3"
    },
    "language_info": {
      "name": "python"
    }
  },
  "cells": [
    {
      "cell_type": "markdown",
      "metadata": {
        "id": "view-in-github",
        "colab_type": "text"
      },
      "source": [
        "<a href=\"https://colab.research.google.com/github/shivendra1-cyber/AmazonWebScrapping2/blob/main/AmazonWebScrapping2.ipynb\" target=\"_parent\"><img src=\"https://colab.research.google.com/assets/colab-badge.svg\" alt=\"Open In Colab\"/></a>"
      ]
    },
    {
      "cell_type": "markdown",
      "source": [
        "#PROBLEM STATEMENT\n",
        "The Ecommerce URL is given below and search for table fans and need to extract the product information according to mentioned headers on the excel as follows:\n",
        "https://www.amazon.in/\n",
        "Headers to be required on Excel:\n",
        "\n",
        "\n",
        "a)\n",
        "Product Name\n",
        "\n",
        "b)\n",
        "Product Code or SKU ID\n",
        "\n",
        "c)\n",
        "Price\n",
        "\n",
        "d)\n",
        "Dimensions\n",
        "\n",
        "e)\n",
        "Weight\n",
        "\n",
        "f)\n",
        "Manufacturer Name\n",
        "\n",
        "g)\n",
        "Warranty\n",
        "\n",
        "h)\n",
        "Features\n",
        "\n",
        "i)\n",
        "Color\n",
        "\n",
        "j)\n",
        "Other Relevant Information\n",
        "\n",
        "\n"
      ],
      "metadata": {
        "id": "mSboVHuWzHAc"
      }
    },
    {
      "cell_type": "markdown",
      "source": [
        "#SOLUTION"
      ],
      "metadata": {
        "id": "fumMgP99z8gG"
      }
    },
    {
      "cell_type": "markdown",
      "source": [
        "Step 1: Remove Old Chrome & ChromeDriver\n",
        "Run this first to clean up old installations:"
      ],
      "metadata": {
        "id": "58wZ0Ez_63Ks"
      }
    },
    {
      "cell_type": "code",
      "source": [
        "!apt-get remove -y google-chrome-stable\n",
        "!rm -rf /usr/bin/google-chrome /usr/bin/chromedriver\n",
        "!apt-get autoremove -y\n"
      ],
      "metadata": {
        "colab": {
          "base_uri": "https://localhost:8080/",
          "height": 0
        },
        "id": "xc_fgKVK5lGh",
        "outputId": "14dd33fa-5e55-4995-b51f-8a17b2af90c7"
      },
      "execution_count": 50,
      "outputs": [
        {
          "output_type": "stream",
          "name": "stdout",
          "text": [
            "Reading package lists... Done\n",
            "Building dependency tree... Done\n",
            "Reading state information... Done\n",
            "The following packages were automatically installed and are no longer required:\n",
            "  libvulkan1 mesa-vulkan-drivers\n",
            "Use 'apt autoremove' to remove them.\n",
            "The following packages will be REMOVED:\n",
            "  google-chrome-stable\n",
            "0 upgraded, 0 newly installed, 1 to remove and 37 not upgraded.\n",
            "After this operation, 374 MB disk space will be freed.\n",
            "(Reading database ... 126821 files and directories currently installed.)\n",
            "Removing google-chrome-stable (134.0.6998.165-1) ...\n",
            "update-alternatives: using /usr/bin/chromium-browser to provide /usr/bin/x-www-browser (x-www-browser) in auto mode\n",
            "update-alternatives: using /usr/bin/chromium-browser to provide /usr/bin/gnome-www-browser (gnome-www-browser) in auto mode\n",
            "Processing triggers for mailcap (3.70+nmu1ubuntu1) ...\n",
            "Processing triggers for man-db (2.10.2-1) ...\n",
            "Reading package lists... Done\n",
            "Building dependency tree... Done\n",
            "Reading state information... Done\n",
            "The following packages will be REMOVED:\n",
            "  libvulkan1 mesa-vulkan-drivers\n",
            "0 upgraded, 0 newly installed, 2 to remove and 37 not upgraded.\n",
            "After this operation, 51.3 MB disk space will be freed.\n",
            "(Reading database ... 126706 files and directories currently installed.)\n",
            "Removing mesa-vulkan-drivers:amd64 (23.2.1-1ubuntu3.1~22.04.3) ...\n",
            "Removing libvulkan1:amd64 (1.3.204.1-2) ...\n",
            "Processing triggers for libc-bin (2.35-0ubuntu3.8) ...\n",
            "/sbin/ldconfig.real: /usr/local/lib/libhwloc.so.15 is not a symbolic link\n",
            "\n",
            "/sbin/ldconfig.real: /usr/local/lib/libtcm.so.1 is not a symbolic link\n",
            "\n",
            "/sbin/ldconfig.real: /usr/local/lib/libtbbmalloc_proxy.so.2 is not a symbolic link\n",
            "\n",
            "/sbin/ldconfig.real: /usr/local/lib/libtbbbind_2_0.so.3 is not a symbolic link\n",
            "\n",
            "/sbin/ldconfig.real: /usr/local/lib/libtbbmalloc.so.2 is not a symbolic link\n",
            "\n",
            "/sbin/ldconfig.real: /usr/local/lib/libtbb.so.12 is not a symbolic link\n",
            "\n",
            "/sbin/ldconfig.real: /usr/local/lib/libur_adapter_opencl.so.0 is not a symbolic link\n",
            "\n",
            "/sbin/ldconfig.real: /usr/local/lib/libtbbbind.so.3 is not a symbolic link\n",
            "\n",
            "/sbin/ldconfig.real: /usr/local/lib/libtcm_debug.so.1 is not a symbolic link\n",
            "\n",
            "/sbin/ldconfig.real: /usr/local/lib/libur_adapter_level_zero.so.0 is not a symbolic link\n",
            "\n",
            "/sbin/ldconfig.real: /usr/local/lib/libur_loader.so.0 is not a symbolic link\n",
            "\n",
            "/sbin/ldconfig.real: /usr/local/lib/libumf.so.0 is not a symbolic link\n",
            "\n",
            "/sbin/ldconfig.real: /usr/local/lib/libtbbbind_2_5.so.3 is not a symbolic link\n",
            "\n"
          ]
        }
      ]
    },
    {
      "cell_type": "markdown",
      "source": [
        "Step 2: Install Latest Google Chrome"
      ],
      "metadata": {
        "id": "siJLAplS640z"
      }
    },
    {
      "cell_type": "code",
      "source": [
        "!apt-get update\n",
        "!apt-get install -y wget unzip\n",
        "!wget https://dl.google.com/linux/direct/google-chrome-stable_current_amd64.deb\n",
        "!dpkg -i google-chrome-stable_current_amd64.deb || true\n",
        "!apt-get -f install -y\n",
        "!rm google-chrome-stable_current_amd64.deb\n",
        "!google-chrome --version\n"
      ],
      "metadata": {
        "colab": {
          "base_uri": "https://localhost:8080/",
          "height": 0
        },
        "id": "021qNrQm6Dxx",
        "outputId": "5b415050-bc81-4798-ad03-48afc76f096c"
      },
      "execution_count": 51,
      "outputs": [
        {
          "output_type": "stream",
          "name": "stdout",
          "text": [
            "\r0% [Working]\r            \rHit:1 https://cloud.r-project.org/bin/linux/ubuntu jammy-cran40/ InRelease\n",
            "Hit:2 http://archive.ubuntu.com/ubuntu jammy InRelease\n",
            "Hit:3 https://developer.download.nvidia.com/compute/cuda/repos/ubuntu2204/x86_64  InRelease\n",
            "Hit:4 http://security.ubuntu.com/ubuntu jammy-security InRelease\n",
            "Hit:5 http://archive.ubuntu.com/ubuntu jammy-updates InRelease\n",
            "Hit:6 https://dl.google.com/linux/chrome/deb stable InRelease\n",
            "Hit:7 http://archive.ubuntu.com/ubuntu jammy-backports InRelease\n",
            "Get:8 https://r2u.stat.illinois.edu/ubuntu jammy InRelease [6,555 B]\n",
            "Hit:9 https://ppa.launchpadcontent.net/deadsnakes/ppa/ubuntu jammy InRelease\n",
            "Hit:10 https://ppa.launchpadcontent.net/graphics-drivers/ppa/ubuntu jammy InRelease\n",
            "Hit:11 https://ppa.launchpadcontent.net/ubuntugis/ppa/ubuntu jammy InRelease\n",
            "Get:12 https://r2u.stat.illinois.edu/ubuntu jammy/main amd64 Packages [2,684 kB]\n",
            "Get:13 https://r2u.stat.illinois.edu/ubuntu jammy/main all Packages [8,784 kB]\n",
            "Fetched 11.5 MB in 3s (3,410 kB/s)\n",
            "Reading package lists... Done\n",
            "W: Skipping acquire of configured file 'main/source/Sources' as repository 'https://r2u.stat.illinois.edu/ubuntu jammy InRelease' does not seem to provide it (sources.list entry misspelt?)\n",
            "Reading package lists... Done\n",
            "Building dependency tree... Done\n",
            "Reading state information... Done\n",
            "unzip is already the newest version (6.0-26ubuntu3.2).\n",
            "wget is already the newest version (1.21.2-2ubuntu1.1).\n",
            "0 upgraded, 0 newly installed, 0 to remove and 38 not upgraded.\n",
            "--2025-03-27 14:01:44--  https://dl.google.com/linux/direct/google-chrome-stable_current_amd64.deb\n",
            "Resolving dl.google.com (dl.google.com)... 172.217.12.14, 2607:f8b0:4025:811::200e\n",
            "Connecting to dl.google.com (dl.google.com)|172.217.12.14|:443... connected.\n",
            "HTTP request sent, awaiting response... 200 OK\n",
            "Length: 114483440 (109M) [application/x-debian-package]\n",
            "Saving to: ‘google-chrome-stable_current_amd64.deb’\n",
            "\n",
            "google-chrome-stabl 100%[===================>] 109.18M  4.71MB/s    in 24s     \n",
            "\n",
            "2025-03-27 14:02:09 (4.56 MB/s) - ‘google-chrome-stable_current_amd64.deb’ saved [114483440/114483440]\n",
            "\n",
            "Selecting previously unselected package google-chrome-stable.\n",
            "(Reading database ... 126668 files and directories currently installed.)\n",
            "Preparing to unpack google-chrome-stable_current_amd64.deb ...\n",
            "Unpacking google-chrome-stable (134.0.6998.165-1) ...\n",
            "\u001b[1mdpkg:\u001b[0m dependency problems prevent configuration of google-chrome-stable:\n",
            " google-chrome-stable depends on libvulkan1; however:\n",
            "  Package libvulkan1 is not installed.\n",
            "\n",
            "\u001b[1mdpkg:\u001b[0m error processing package google-chrome-stable (--install):\n",
            " dependency problems - leaving unconfigured\n",
            "Processing triggers for mailcap (3.70+nmu1ubuntu1) ...\n",
            "Processing triggers for man-db (2.10.2-1) ...\n",
            "Errors were encountered while processing:\n",
            " google-chrome-stable\n",
            "Reading package lists... Done\n",
            "Building dependency tree... Done\n",
            "Reading state information... Done\n",
            "Correcting dependencies... Done\n",
            "The following additional packages will be installed:\n",
            "  libvulkan1 mesa-vulkan-drivers\n",
            "The following NEW packages will be installed:\n",
            "  libvulkan1 mesa-vulkan-drivers\n",
            "0 upgraded, 2 newly installed, 0 to remove and 38 not upgraded.\n",
            "1 not fully installed or removed.\n",
            "Need to get 10.9 MB of archives.\n",
            "After this operation, 51.3 MB of additional disk space will be used.\n",
            "Get:1 http://archive.ubuntu.com/ubuntu jammy/main amd64 libvulkan1 amd64 1.3.204.1-2 [128 kB]\n",
            "Get:2 http://archive.ubuntu.com/ubuntu jammy-updates/main amd64 mesa-vulkan-drivers amd64 23.2.1-1ubuntu3.1~22.04.3 [10.7 MB]\n",
            "Fetched 10.9 MB in 2s (5,935 kB/s)\n",
            "Selecting previously unselected package libvulkan1:amd64.\n",
            "(Reading database ... 126783 files and directories currently installed.)\n",
            "Preparing to unpack .../libvulkan1_1.3.204.1-2_amd64.deb ...\n",
            "Unpacking libvulkan1:amd64 (1.3.204.1-2) ...\n",
            "Selecting previously unselected package mesa-vulkan-drivers:amd64.\n",
            "Preparing to unpack .../mesa-vulkan-drivers_23.2.1-1ubuntu3.1~22.04.3_amd64.deb ...\n",
            "Unpacking mesa-vulkan-drivers:amd64 (23.2.1-1ubuntu3.1~22.04.3) ...\n",
            "Setting up libvulkan1:amd64 (1.3.204.1-2) ...\n",
            "Setting up mesa-vulkan-drivers:amd64 (23.2.1-1ubuntu3.1~22.04.3) ...\n",
            "Setting up google-chrome-stable (134.0.6998.165-1) ...\n",
            "update-alternatives: using /usr/bin/google-chrome-stable to provide /usr/bin/x-www-browser (x-www-browser) in auto mode\n",
            "update-alternatives: using /usr/bin/google-chrome-stable to provide /usr/bin/gnome-www-browser (gnome-www-browser) in auto mode\n",
            "update-alternatives: using /usr/bin/google-chrome-stable to provide /usr/bin/google-chrome (google-chrome) in auto mode\n",
            "Processing triggers for libc-bin (2.35-0ubuntu3.8) ...\n",
            "/sbin/ldconfig.real: /usr/local/lib/libhwloc.so.15 is not a symbolic link\n",
            "\n",
            "/sbin/ldconfig.real: /usr/local/lib/libtcm.so.1 is not a symbolic link\n",
            "\n",
            "/sbin/ldconfig.real: /usr/local/lib/libtbbmalloc_proxy.so.2 is not a symbolic link\n",
            "\n",
            "/sbin/ldconfig.real: /usr/local/lib/libtbbbind_2_0.so.3 is not a symbolic link\n",
            "\n",
            "/sbin/ldconfig.real: /usr/local/lib/libtbbmalloc.so.2 is not a symbolic link\n",
            "\n",
            "/sbin/ldconfig.real: /usr/local/lib/libtbb.so.12 is not a symbolic link\n",
            "\n",
            "/sbin/ldconfig.real: /usr/local/lib/libur_adapter_opencl.so.0 is not a symbolic link\n",
            "\n",
            "/sbin/ldconfig.real: /usr/local/lib/libtbbbind.so.3 is not a symbolic link\n",
            "\n",
            "/sbin/ldconfig.real: /usr/local/lib/libtcm_debug.so.1 is not a symbolic link\n",
            "\n",
            "/sbin/ldconfig.real: /usr/local/lib/libur_adapter_level_zero.so.0 is not a symbolic link\n",
            "\n",
            "/sbin/ldconfig.real: /usr/local/lib/libur_loader.so.0 is not a symbolic link\n",
            "\n",
            "/sbin/ldconfig.real: /usr/local/lib/libumf.so.0 is not a symbolic link\n",
            "\n",
            "/sbin/ldconfig.real: /usr/local/lib/libtbbbind_2_5.so.3 is not a symbolic link\n",
            "\n",
            "Google Chrome 134.0.6998.165 \n"
          ]
        }
      ]
    },
    {
      "cell_type": "markdown",
      "source": [
        "Step 3: Install Matching ChromeDriver for Chrome 134\n",
        "Run this command to download the correct ChromeDriver version:"
      ],
      "metadata": {
        "id": "W1pTlQg369ym"
      }
    },
    {
      "cell_type": "code",
      "source": [
        "!wget -O chromedriver.zip https://storage.googleapis.com/chrome-for-testing-public/134.0.6998.165/linux64/chromedriver-linux64.zip\n",
        "!unzip chromedriver.zip\n",
        "!mv chromedriver-linux64/chromedriver /usr/bin/chromedriver\n",
        "!chmod +x /usr/bin/chromedriver\n",
        "!chromedriver --version\n"
      ],
      "metadata": {
        "colab": {
          "base_uri": "https://localhost:8080/",
          "height": 0
        },
        "id": "ejg00oie6IYB",
        "outputId": "fa7d1585-28dc-49c2-f520-98874bd3e954"
      },
      "execution_count": 52,
      "outputs": [
        {
          "output_type": "stream",
          "name": "stdout",
          "text": [
            "--2025-03-27 14:02:41--  https://storage.googleapis.com/chrome-for-testing-public/134.0.6998.165/linux64/chromedriver-linux64.zip\n",
            "Resolving storage.googleapis.com (storage.googleapis.com)... 172.217.12.27, 142.250.65.123, 172.217.164.27, ...\n",
            "Connecting to storage.googleapis.com (storage.googleapis.com)|172.217.12.27|:443... connected.\n",
            "HTTP request sent, awaiting response... 200 OK\n",
            "Length: 9494938 (9.1M) [application/zip]\n",
            "Saving to: ‘chromedriver.zip’\n",
            "\n",
            "\rchromedriver.zip      0%[                    ]       0  --.-KB/s               \rchromedriver.zip    100%[===================>]   9.05M  --.-KB/s    in 0.04s   \n",
            "\n",
            "2025-03-27 14:02:41 (225 MB/s) - ‘chromedriver.zip’ saved [9494938/9494938]\n",
            "\n",
            "Archive:  chromedriver.zip\n",
            "  inflating: chromedriver-linux64/LICENSE.chromedriver  \n",
            "  inflating: chromedriver-linux64/THIRD_PARTY_NOTICES.chromedriver  \n",
            "  inflating: chromedriver-linux64/chromedriver  \n",
            "ChromeDriver 134.0.6998.165 (fd886e2cb29dd984c13deec032832dee68d8abe3-refs/branch-heads/6998@{#2122})\n"
          ]
        }
      ]
    },
    {
      "cell_type": "markdown",
      "source": [
        "Step 4: Test ChromeDriver"
      ],
      "metadata": {
        "id": "ccjE__nU7Cgi"
      }
    },
    {
      "cell_type": "code",
      "source": [
        "import time\n",
        "import pandas as pd\n",
        "from selenium import webdriver\n",
        "from selenium.webdriver.chrome.service import Service\n",
        "from selenium.webdriver.chrome.options import Options\n",
        "\n",
        "# Set up Chrome options\n",
        "chrome_options = Options()\n",
        "chrome_options.add_argument(\"--headless\")\n",
        "chrome_options.add_argument(\"--no-sandbox\")\n",
        "chrome_options.add_argument(\"--disable-dev-shm-usage\")\n",
        "chrome_options.binary_location = \"/usr/bin/google-chrome\"\n",
        "\n",
        "# Correct ChromeDriver path\n",
        "service = Service(\"/usr/bin/chromedriver\")\n",
        "driver = webdriver.Chrome(service=service, options=chrome_options)\n",
        "\n",
        "# Test if it works\n",
        "driver.get(\"https://www.google.com\")\n",
        "print(\"✅ ChromeDriver is working fine!\")\n",
        "driver.quit()\n"
      ],
      "metadata": {
        "colab": {
          "base_uri": "https://localhost:8080/",
          "height": 0
        },
        "id": "tA8DWmB_6YfR",
        "outputId": "01d9fdec-48ee-4ab2-d03f-2667e84a1364"
      },
      "execution_count": 53,
      "outputs": [
        {
          "output_type": "stream",
          "name": "stdout",
          "text": [
            "✅ ChromeDriver is working fine!\n"
          ]
        }
      ]
    },
    {
      "cell_type": "code",
      "source": [
        "from selenium import webdriver\n",
        "from selenium.webdriver.chrome.service import Service\n",
        "from selenium.webdriver.common.by import By\n",
        "from selenium.webdriver.chrome.options import Options\n",
        "from selenium.webdriver.support.ui import WebDriverWait\n",
        "from selenium.webdriver.support import expected_conditions as EC\n",
        "import time\n",
        "import pandas as pd\n",
        "import random\n",
        "\n",
        "# Setup Chrome options\n",
        "chrome_options = Options()\n",
        "chrome_options.add_argument(\"--headless\")\n",
        "chrome_options.add_argument(\"--no-sandbox\")\n",
        "chrome_options.add_argument(\"--disable-dev-shm-usage\")\n",
        "\n",
        "# Define ChromeDriver path\n",
        "service = Service(\"/usr/bin/chromedriver\")\n",
        "driver = webdriver.Chrome(service=service, options=chrome_options)\n",
        "\n",
        "# Open Amazon & search for \"Table Fans\"\n",
        "url = \"https://www.amazon.in/s?k=table+fans\"\n",
        "driver.get(url)\n",
        "WebDriverWait(driver, 10).until(EC.presence_of_element_located((By.XPATH, \"//div[@data-component-type='s-search-result']\")))\n",
        "\n",
        "# Extract product details\n",
        "products = driver.find_elements(By.XPATH, \"//div[@data-component-type='s-search-result']\")\n",
        "\n",
        "data = []\n",
        "for index, product in enumerate(products):\n",
        "    try:\n",
        "        name = product.find_element(By.XPATH, \".//span[contains(@class, 'a-size-medium')]\").text.strip()\n",
        "    except:\n",
        "        name = \"N/A\"\n",
        "\n",
        "    try:\n",
        "        asin = product.get_attribute(\"data-asin\")\n",
        "    except:\n",
        "        asin = \"N/A\"\n",
        "\n",
        "    try:\n",
        "        price = product.find_element(By.XPATH, \".//span[@class='a-price-whole']\").text.strip()\n",
        "    except:\n",
        "        price = \"N/A\"\n",
        "\n",
        "    try:\n",
        "        product_link = product.find_element(By.XPATH, \".//a[@class='a-link-normal s-no-outline']\").get_attribute(\"href\")\n",
        "    except:\n",
        "        product_link = \"N/A\"\n",
        "\n",
        "    # Open product details page\n",
        "    dimensions, weight, manufacturer, warranty, features, color = [\"N/A\"] * 6\n",
        "    if product_link != \"N/A\":\n",
        "        driver.execute_script(\"window.open(arguments[0]);\", product_link)\n",
        "        driver.switch_to.window(driver.window_handles[1])\n",
        "        time.sleep(random.uniform(2, 4))  # Randomized delay\n",
        "\n",
        "        def get_detail(text):\n",
        "            try:\n",
        "                return WebDriverWait(driver, 5).until(EC.presence_of_element_located(\n",
        "                    (By.XPATH, f\"//th[contains(text(), '{text}')]/following-sibling::td\")\n",
        "                )).text.strip()\n",
        "            except:\n",
        "                return \"N/A\"\n",
        "\n",
        "        dimensions = get_detail(\"Product Dimensions\")\n",
        "        weight = get_detail(\"Item Weight\")\n",
        "        manufacturer = get_detail(\"Manufacturer\")\n",
        "        warranty = get_detail(\"Warranty\")\n",
        "        features = get_detail(\"Features\")\n",
        "        color = get_detail(\"Colour\")\n",
        "\n",
        "        driver.close()\n",
        "        driver.switch_to.window(driver.window_handles[0])  # Back to main tab\n",
        "\n",
        "    data.append([name, asin, price, dimensions, weight, manufacturer, warranty, features, color, product_link])\n",
        "\n",
        "    if index >= 9:\n",
        "        break  # Limit to avoid blocking\n",
        "\n",
        "# Save data to Excel\n",
        "df = pd.DataFrame(data, columns=[\"Product Name\", \"Product Code (ASIN)\", \"Price\", \"Dimensions\", \"Weight\",\n",
        "                                 \"Manufacturer Name\", \"Warranty\", \"Features\", \"Color\", \"Product Link\"])\n",
        "df.to_excel(\"Amazon_Table_Fans.xlsx\", index=False)\n",
        "\n",
        "print(\"✅ Data Scraping Complete! File saved as 'Amazon_Table_Fans.xlsx'.\")\n",
        "\n",
        "driver.quit()\n"
      ],
      "metadata": {
        "colab": {
          "base_uri": "https://localhost:8080/",
          "height": 0
        },
        "id": "YjsnnEll9LDH",
        "outputId": "942577e1-61ba-4590-f84a-c4e650f449b6"
      },
      "execution_count": 80,
      "outputs": [
        {
          "output_type": "stream",
          "name": "stdout",
          "text": [
            "✅ Data Scraping Complete! File saved as 'Amazon_Table_Fans.xlsx'.\n"
          ]
        }
      ]
    },
    {
      "cell_type": "code",
      "source": [
        "from google.colab import files\n",
        "files.download(\"amazon_products.csv\")\n"
      ],
      "metadata": {
        "colab": {
          "base_uri": "https://localhost:8080/",
          "height": 17
        },
        "id": "A6xELq1LDs8n",
        "outputId": "3715b5b2-3571-4eae-f75f-c4d9084bdbd7"
      },
      "execution_count": 82,
      "outputs": [
        {
          "output_type": "display_data",
          "data": {
            "text/plain": [
              "<IPython.core.display.Javascript object>"
            ],
            "application/javascript": [
              "\n",
              "    async function download(id, filename, size) {\n",
              "      if (!google.colab.kernel.accessAllowed) {\n",
              "        return;\n",
              "      }\n",
              "      const div = document.createElement('div');\n",
              "      const label = document.createElement('label');\n",
              "      label.textContent = `Downloading \"${filename}\": `;\n",
              "      div.appendChild(label);\n",
              "      const progress = document.createElement('progress');\n",
              "      progress.max = size;\n",
              "      div.appendChild(progress);\n",
              "      document.body.appendChild(div);\n",
              "\n",
              "      const buffers = [];\n",
              "      let downloaded = 0;\n",
              "\n",
              "      const channel = await google.colab.kernel.comms.open(id);\n",
              "      // Send a message to notify the kernel that we're ready.\n",
              "      channel.send({})\n",
              "\n",
              "      for await (const message of channel.messages) {\n",
              "        // Send a message to notify the kernel that we're ready.\n",
              "        channel.send({})\n",
              "        if (message.buffers) {\n",
              "          for (const buffer of message.buffers) {\n",
              "            buffers.push(buffer);\n",
              "            downloaded += buffer.byteLength;\n",
              "            progress.value = downloaded;\n",
              "          }\n",
              "        }\n",
              "      }\n",
              "      const blob = new Blob(buffers, {type: 'application/binary'});\n",
              "      const a = document.createElement('a');\n",
              "      a.href = window.URL.createObjectURL(blob);\n",
              "      a.download = filename;\n",
              "      div.appendChild(a);\n",
              "      a.click();\n",
              "      div.remove();\n",
              "    }\n",
              "  "
            ]
          },
          "metadata": {}
        },
        {
          "output_type": "display_data",
          "data": {
            "text/plain": [
              "<IPython.core.display.Javascript object>"
            ],
            "application/javascript": [
              "download(\"download_77cfd4a2-b10a-4415-bbf8-25ddb7e9e553\", \"amazon_products.csv\", 253)"
            ]
          },
          "metadata": {}
        }
      ]
    },
    {
      "cell_type": "code",
      "source": [],
      "metadata": {
        "id": "si_li0Is8qBz"
      },
      "execution_count": 64,
      "outputs": []
    },
    {
      "cell_type": "code",
      "source": [],
      "metadata": {
        "id": "h1mbPmC-AHOT"
      },
      "execution_count": null,
      "outputs": []
    }
  ]
}